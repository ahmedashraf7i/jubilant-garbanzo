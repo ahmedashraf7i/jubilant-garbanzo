{
 "cells": [
  {
   "cell_type": "code",
   "execution_count": 26,
   "metadata": {},
   "outputs": [],
   "source": [
    "def get_student_name():\n",
    "    name=input(\"please enter your name\")\n",
    "    if name.isalpha():\n",
    "            pass\n",
    "    else:\n",
    "        print(\"please enter a valid name\")\n",
    "    if(name=='exit'):\n",
    "        return \"none\""
   ]
  },
  {
   "cell_type": "code",
   "execution_count": 35,
   "metadata": {},
   "outputs": [],
   "source": [
    "def get_student_age():\n",
    "    age=input(\"please enter your age\")\n",
    "    if(age=='exit'):\n",
    "        return \"none\"\n",
    "    if age.isdigit():\n",
    "        pass\n",
    "    else:\n",
    "        print(\"please enter A VALID AGE\")\n",
    "    if age>=str(18) or age<=str(80):\n",
    "        pass\n",
    "    else:\n",
    "        print(\"please enter A VALID AGE\")"
   ]
  },
  {
   "cell_type": "code",
   "execution_count": 38,
   "metadata": {},
   "outputs": [],
   "source": [
    "def get_student_grade():\n",
    "    grade=input(\"please enter your grade\")\n",
    "    if(grade=='exit'):\n",
    "        return \"none\"\n",
    "    if grade.isdigit():\n",
    "        pass\n",
    "    else:\n",
    "        print(\"please enter your grade\")\n",
    "        if grade>=str(1) or grade>=str(100):\n",
    "            pass\n",
    "        else:\n",
    "            print(\"please enter your grade\")\n"
   ]
  },
  {
   "cell_type": "code",
   "execution_count": 46,
   "metadata": {},
   "outputs": [
    {
     "name": "stdout",
     "output_type": "stream",
     "text": [
      "please enter your nameahmed\n"
     ]
    }
   ],
   "source": [
    "get_student_name()"
   ]
  },
  {
   "cell_type": "code",
   "execution_count": null,
   "metadata": {},
   "outputs": [],
   "source": []
  }
 ],
 "metadata": {
  "kernelspec": {
   "display_name": "Python 3",
   "language": "python",
   "name": "python3"
  },
  "language_info": {
   "codemirror_mode": {
    "name": "ipython",
    "version": 3
   },
   "file_extension": ".py",
   "mimetype": "text/x-python",
   "name": "python",
   "nbconvert_exporter": "python",
   "pygments_lexer": "ipython3",
   "version": "3.7.2"
  }
 },
 "nbformat": 4,
 "nbformat_minor": 2
}
