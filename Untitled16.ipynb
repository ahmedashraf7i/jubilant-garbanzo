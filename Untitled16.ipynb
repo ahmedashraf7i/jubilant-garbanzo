{
 "cells": [
  {
   "cell_type": "code",
   "execution_count": null,
   "metadata": {},
   "outputs": [
    {
     "name": "stdout",
     "output_type": "stream",
     "text": [
      "please enter your name ahmed\n",
      "please enter your age55\n"
     ]
    }
   ],
   "source": [
    "    name=[]\n",
    "    name=input(\"please enter your name \")\n",
    "    if (name==\"exit\"):\n",
    "        print(\"None\")      \n",
    "    else:\n",
    "        pass\n",
    "    if name.isalpha():\n",
    "        pass\n",
    "    else:\n",
    "        print(\"please enter a valid name\")\n",
    "    \n",
    "    age=[]\n",
    "    age=input(\"please enter your age\")\n",
    "    if age.isdigit():\n",
    "         pass\n",
    "    else:\n",
    "        print(\"please enter A VALID AGE\")\n",
    "    while age>=str(18) or age<=str(80):\n",
    "            pass\n",
    "    else:\n",
    "        print(\"please enter A VALID AGE\")\n",
    "    if (age==\"exit\"):\n",
    "        print(\"None\")\n",
    "    else:\n",
    "        pass\n",
    "    grade=[]\n",
    "    grade=input(\"please enter your grade\")\n",
    "    if grade.isdigit():\n",
    "        pass\n",
    "    else:\n",
    "        print(\"please enter your grade\")\n",
    "    while grade>=str(1) or grade>=str(100):\n",
    "                        pass\n",
    "    else:\n",
    "        print(\"please enter your grade\")\n",
    "    if(grade=='exit'):\n",
    "        print(\"None\")"
   ]
  },
  {
   "cell_type": "code",
   "execution_count": null,
   "metadata": {},
   "outputs": [],
   "source": []
  }
 ],
 "metadata": {
  "kernelspec": {
   "display_name": "Python 3",
   "language": "python",
   "name": "python3"
  }
 },
 "nbformat": 4,
 "nbformat_minor": 2
}
