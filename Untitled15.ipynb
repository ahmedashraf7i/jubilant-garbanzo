{
 "cells": [
  {
   "cell_type": "code",
   "execution_count": 8,
   "metadata": {},
   "outputs": [
    {
     "name": "stdout",
     "output_type": "stream",
     "text": [
      "please enter your namekia\n"
     ]
    },
    {
     "ename": "SyntaxError",
     "evalue": "'return' outside function (<ipython-input-8-ccae09ec7eec>, line 9)",
     "output_type": "error",
     "traceback": [
      "\u001b[1;36m  File \u001b[1;32m\"<ipython-input-8-ccae09ec7eec>\"\u001b[1;36m, line \u001b[1;32m9\u001b[0m\n\u001b[1;33m    return None\u001b[0m\n\u001b[1;37m    ^\u001b[0m\n\u001b[1;31mSyntaxError\u001b[0m\u001b[1;31m:\u001b[0m 'return' outside function\n"
     ]
    }
   ],
   "source": [
    "name=[]\n",
    "name=input(\"please enter your name\")\n",
    "if name.isalpha():\n",
    "    pass\n",
    "else:\n",
    "    print(\"please enter a valid name\")\n",
    "name=None\n",
    "if (name==\"exit\"):\n",
    "    return None\n",
    "age=[]\n",
    "age=input(\"please enter your age\")\n",
    "if age.isdigit():\n",
    "     pass\n",
    "else:\n",
    "    print(\"please enter A VALID AGE\")\n",
    "while age>=str(18) or age<=str(80):\n",
    "        pass\n",
    "else:\n",
    "    print(\"please enter A VALID AGE\")\n",
    "if (age==\"exit\"):\n",
    "    return age\n",
    "grade=[]\n",
    "grade=input(\"please enter your grade\")\n",
    "if grade.isdigit():\n",
    "    pass\n",
    "else:\n",
    "    print(\"please enter your grade\")\n",
    "while grade>=str(1) or grade>=str(100):\n",
    "    pass\n",
    "else:\n",
    "    print(\"please enter your grade\")\n",
    "if(grade=='exit'):\n",
    "      return grade"
   ]
  },
  {
   "cell_type": "code",
   "execution_count": null,
   "metadata": {},
   "outputs": [],
   "source": []
  },
  {
   "cell_type": "code",
   "execution_count": null,
   "metadata": {},
   "outputs": [],
   "source": []
  },
  {
   "cell_type": "code",
   "execution_count": null,
   "metadata": {},
   "outputs": [],
   "source": []
  },
  {
   "cell_type": "code",
   "execution_count": null,
   "metadata": {},
   "outputs": [],
   "source": []
  },
  {
   "cell_type": "code",
   "execution_count": null,
   "metadata": {},
   "outputs": [],
   "source": []
  },
  {
   "cell_type": "code",
   "execution_count": null,
   "metadata": {},
   "outputs": [],
   "source": []
  },
  {
   "cell_type": "code",
   "execution_count": null,
   "metadata": {},
   "outputs": [],
   "source": []
  }
 ],
 "metadata": {
  "kernelspec": {
   "display_name": "Python 3",
   "language": "python",
   "name": "python3"
  },
  "language_info": {
   "codemirror_mode": {
    "name": "ipython",
    "version": 3
   },
   "file_extension": ".py",
   "mimetype": "text/x-python",
   "name": "python",
   "nbconvert_exporter": "python",
   "pygments_lexer": "ipython3",
   "version": "3.7.2"
  }
 },
 "nbformat": 4,
 "nbformat_minor": 2
}
